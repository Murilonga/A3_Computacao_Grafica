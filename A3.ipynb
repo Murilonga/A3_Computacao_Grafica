{
  "cells": [
    {
      "cell_type": "markdown",
      "source": [
        "# Aluno: Murilo Sousa Frois\n",
        "## RA: 12723211218"
      ],
      "metadata": {
        "id": "zNs4UZXhjUYV"
      }
    },
    {
      "cell_type": "markdown",
      "source": [
        "# Aqui está um código que implementa as seguintes modificações visuais em uma imagem:\n",
        "*   **Rotação**\n",
        "*   **Escalonamento**\n",
        "*   **Translação**\n",
        "\n",
        "# A seguir, o usuário pode escolher o que ele deseja realizar."
      ],
      "metadata": {
        "id": "Cni7zllMgBIG"
      }
    },
    {
      "cell_type": "code",
      "source": [
        "from google.colab import drive"
      ],
      "metadata": {
        "id": "1bFupRGnbEew"
      },
      "execution_count": 35,
      "outputs": []
    },
    {
      "cell_type": "code",
      "source": [
        "drive.mount('/content/drive')"
      ],
      "metadata": {
        "colab": {
          "base_uri": "https://localhost:8080/"
        },
        "id": "fwpyJGRZbJeg",
        "outputId": "ca86bca6-bfcf-4f6c-9203-b1303de17a06"
      },
      "execution_count": 36,
      "outputs": [
        {
          "output_type": "stream",
          "name": "stdout",
          "text": [
            "Drive already mounted at /content/drive; to attempt to forcibly remount, call drive.mount(\"/content/drive\", force_remount=True).\n"
          ]
        }
      ]
    },
    {
      "cell_type": "code",
      "source": [
        "import os"
      ],
      "metadata": {
        "id": "OOA_OQ2bbJUB"
      },
      "execution_count": 37,
      "outputs": []
    },
    {
      "cell_type": "code",
      "source": [
        "os.chdir('/content/drive/MyDrive/')"
      ],
      "metadata": {
        "id": "NjF4gLd0bLQi"
      },
      "execution_count": 38,
      "outputs": []
    },
    {
      "cell_type": "code",
      "source": [
        "import cv2"
      ],
      "metadata": {
        "id": "wpn5mmoubJFA"
      },
      "execution_count": 39,
      "outputs": []
    },
    {
      "cell_type": "code",
      "source": [
        "from google.colab.patches import cv2_imshow"
      ],
      "metadata": {
        "id": "ZyCNkfY2bQmQ"
      },
      "execution_count": 40,
      "outputs": []
    },
    {
      "cell_type": "code",
      "source": [
        "import numpy as np"
      ],
      "metadata": {
        "id": "5WacJ7DWbSNR"
      },
      "execution_count": 41,
      "outputs": []
    },
    {
      "cell_type": "code",
      "source": [
        "file_path = ('imagem.jpeg')"
      ],
      "metadata": {
        "id": "8zZGWLTwbUdg"
      },
      "execution_count": 42,
      "outputs": []
    },
    {
      "cell_type": "code",
      "source": [
        "# Carregar a imagem usando o OpenCV\n",
        "imagem = cv2.imread(file_path)"
      ],
      "metadata": {
        "id": "8iAKriNpbWrx"
      },
      "execution_count": 43,
      "outputs": []
    },
    {
      "cell_type": "code",
      "source": [
        "# Verificar se a imagem foi carregada corretamente\n",
        "if imagem is not None:\n",
        "    Altura, Largura, Canal = imagem.shape\n",
        "    print(f\"Largura: {Largura}, Altura: {Altura}, Canais: {Canal}\")\n",
        "else:\n",
        "    print(\"A imagem não pôde ser carregada.\")"
      ],
      "metadata": {
        "colab": {
          "base_uri": "https://localhost:8080/"
        },
        "id": "aigOE86ubZ3n",
        "outputId": "550f4d26-e44f-4689-c0e6-f5329d6cb06b"
      },
      "execution_count": 44,
      "outputs": [
        {
          "output_type": "stream",
          "name": "stdout",
          "text": [
            "Largura: 200, Altura: 233, Canais: 3\n"
          ]
        }
      ]
    },
    {
      "cell_type": "code",
      "source": [
        "# Exibi a imagem\n",
        "cv2_imshow(imagem)"
      ],
      "metadata": {
        "colab": {
          "base_uri": "https://localhost:8080/",
          "height": 250
        },
        "id": "kgdUBl11bauo",
        "outputId": "d31213fa-76c8-4b9c-d99b-a77bd8b1c1f3"
      },
      "execution_count": 45,
      "outputs": [
        {
          "output_type": "display_data",
          "data": {
            "text/plain": [
              "<PIL.Image.Image image mode=RGB size=200x233>"
            ],
            "image/png": "[encoded data removed]"
          },
          "metadata": {}
        }
      ]
    },
    {
      "cell_type": "code",
      "source": [
        "Limite_Largura = (Largura-1)\n",
        "Limite_Altura = (Altura-1)\n",
        "print(f\"Limite_Largura: {Limite_Largura}, Limite_Altura: {Limite_Altura}\")"
      ],
      "metadata": {
        "colab": {
          "base_uri": "https://localhost:8080/"
        },
        "id": "MyIu4q4lbdnY",
        "outputId": "84abd8ba-eb3b-44de-aa34-c92cff5300a1"
      },
      "execution_count": 46,
      "outputs": [
        {
          "output_type": "stream",
          "name": "stdout",
          "text": [
            "Limite_Largura: 199, Limite_Altura: 232\n"
          ]
        }
      ]
    },
    {
      "cell_type": "code",
      "source": [
        "# Exibe um menu ao usuário\n",
        "print(\"Escolha o que deseja fazer com a imagem:\")\n",
        "print(\"1. Rotacionar\")\n",
        "print(\"2. Escalar\")\n",
        "print(\"3. Transladar\")\n",
        "\n",
        "# Lê a entrada do usuário\n",
        "opcao = input(\"Opção: \")\n",
        "\n",
        "# Converte a entrada do usuário para um inteiro\n",
        "opcao = int(opcao)\n",
        "\n",
        "# Realiza a ação escolhida pelo usuário\n",
        "if opcao == 1:\n",
        "    # Mostra ao usuário as opções de rotação\n",
        "    print(\"Escolha o ângulo de rotação:\")\n",
        "    print(\"1. 90 graus\")\n",
        "    print(\"2. 180 graus\")\n",
        "    print(\"3. 270 graus\")\n",
        "\n",
        "    # Lê a entrada do usuário\n",
        "    opcao_rotacao = input(\"Opção: \")\n",
        "\n",
        "    # Converte a entrada do usuário para um inteiro\n",
        "    opcao_rotacao = int(opcao_rotacao)\n",
        "\n",
        "    # Realiza a rotação e mostra a imagem\n",
        "    if opcao_rotacao == 1:\n",
        "        imagem_rotacao = cv2.rotate(imagem, cv2.ROTATE_90_CLOCKWISE)\n",
        "        cv2_imshow(imagem_rotacao)\n",
        "    elif opcao_rotacao == 2:\n",
        "        imagem_rotacao = cv2.rotate(imagem, cv2.ROTATE_180)\n",
        "        cv2_imshow(imagem_rotacao)\n",
        "    elif opcao_rotacao == 3:\n",
        "        imagem_rotacao = cv2.rotate(imagem, cv2.ROTATE_90_COUNTERCLOCKWISE)\n",
        "        cv2_imshow(imagem_rotacao)\n",
        "    else:\n",
        "        print(\"Opção inválida.\")\n",
        "elif opcao == 2:\n",
        "    # Escala a imagem e mostra a imagem\n",
        "    fator_escala = float(input(\"Fator de escala: \"))\n",
        "    imagem_escalonada = cv2.resize(imagem, None, fx=fator_escala, fy=fator_escala)\n",
        "    cv2_imshow(imagem_escalonada)\n",
        "elif opcao == 3:\n",
        "    # Translada a imagem\n",
        "    # Lê os deslocamentos do usuário\n",
        "    deslocamento_x = float(input(\"Deslocamento no eixo X: \"))\n",
        "    deslocamento_y = float(input(\"Deslocamento no eixo Y: \"))\n",
        "\n",
        "    # Verifica se os deslocamentos são números reais\n",
        "    if not isinstance(deslocamento_x, float) or not isinstance(deslocamento_y, float):\n",
        "        print(\"Os deslocamentos devem ser números reais.\")\n",
        "    else:\n",
        "        # Matriz de transformação e mostra a imagem\n",
        "        matriz_transformacao = np.array([[1, 0, deslocamento_x], [0, 1, deslocamento_y]])\n",
        "        imagem_traduzida = cv2.warpAffine(imagem, matriz_transformacao, (imagem.shape[1], imagem.shape[0]))\n",
        "        cv2_imshow(imagem_traduzida)\n",
        "else:\n",
        "    print(\"Opção inválida.\")\n",
        "\n"
      ],
      "outputs": [
        {
          "name": "stdout",
          "output_type": "stream",
          "text": [
            "Escolha o que deseja fazer com a imagem:\n",
            "1. Rotacionar\n",
            "2. Escalar\n",
            "3. Transladar\n",
            "Opção: 1\n",
            "Escolha o ângulo de rotação:\n",
            "1. 90 graus\n",
            "2. 180 graus\n",
            "3. 270 graus\n",
            "Opção: 2\n"
          ]
        },
        {
          "output_type": "display_data",
          "data": {
            "text/plain": [
              "<PIL.Image.Image image mode=RGB size=200x233>"
            ],
            "image/png": "[encoded data removed]"
          },
          "metadata": {}
        }
      ],
      "execution_count": 47,
      "metadata": {
        "colab": {
          "base_uri": "https://localhost:8080/",
          "height": 424
        },
        "id": "lEM8D3Nha7S6",
        "outputId": "fa595b45-b435-47f4-b94c-0bf02ae277b8"
      }
    }
  ],
  "metadata": {
    "colab": {
      "provenance": [],
      "toc_visible": true
    },
    "kernelspec": {
      "display_name": "Python 3",
      "name": "python3"
    }
  },
  "nbformat": 4,
  "nbformat_minor": 0
}